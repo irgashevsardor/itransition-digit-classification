{
 "cells": [
  {
   "cell_type": "code",
   "execution_count": 1,
   "metadata": {},
   "outputs": [],
   "source": [
    "import os\n",
    "import cv2\n",
    "import numpy as np"
   ]
  },
  {
   "cell_type": "code",
   "execution_count": 2,
   "metadata": {},
   "outputs": [],
   "source": [
    "images_dir = '/home/sardor/digit_classification/digits'\n",
    "images_to_classify = []\n",
    "\n",
    "for filename in os.listdir(images_dir):\n",
    "    if filename.endswith(\".jpg\"):\n",
    "        image = cv2.imread(os.path.join(images_dir, filename), cv2.IMREAD_GRAYSCALE)\n",
    "        \n",
    "        if image is not None:\n",
    "            image = cv2.resize(image, (28, 28))\n",
    "            images_to_classify.append(image)\n",
    "\n",
    "images_to_classify = np.array(images_to_classify)"
   ]
  },
  {
   "cell_type": "code",
   "execution_count": 3,
   "metadata": {},
   "outputs": [
    {
     "name": "stderr",
     "output_type": "stream",
     "text": [
      "2023-10-22 20:04:43.254969: I tensorflow/core/util/port.cc:111] oneDNN custom operations are on. You may see slightly different numerical results due to floating-point round-off errors from different computation orders. To turn them off, set the environment variable `TF_ENABLE_ONEDNN_OPTS=0`.\n",
      "2023-10-22 20:04:43.329561: I tensorflow/tsl/cuda/cudart_stub.cc:28] Could not find cuda drivers on your machine, GPU will not be used.\n",
      "2023-10-22 20:04:43.777609: E tensorflow/compiler/xla/stream_executor/cuda/cuda_dnn.cc:9342] Unable to register cuDNN factory: Attempting to register factory for plugin cuDNN when one has already been registered\n",
      "2023-10-22 20:04:43.777713: E tensorflow/compiler/xla/stream_executor/cuda/cuda_fft.cc:609] Unable to register cuFFT factory: Attempting to register factory for plugin cuFFT when one has already been registered\n",
      "2023-10-22 20:04:43.778332: E tensorflow/compiler/xla/stream_executor/cuda/cuda_blas.cc:1518] Unable to register cuBLAS factory: Attempting to register factory for plugin cuBLAS when one has already been registered\n",
      "2023-10-22 20:04:44.036323: I tensorflow/tsl/cuda/cudart_stub.cc:28] Could not find cuda drivers on your machine, GPU will not be used.\n",
      "2023-10-22 20:04:44.041677: I tensorflow/core/platform/cpu_feature_guard.cc:182] This TensorFlow binary is optimized to use available CPU instructions in performance-critical operations.\n",
      "To enable the following instructions: AVX2 AVX512F AVX512_VNNI FMA, in other operations, rebuild TensorFlow with the appropriate compiler flags.\n",
      "2023-10-22 20:04:46.094735: W tensorflow/compiler/tf2tensorrt/utils/py_utils.cc:38] TF-TRT Warning: Could not find TensorRT\n"
     ]
    },
    {
     "name": "stdout",
     "output_type": "stream",
     "text": [
      "Epoch 1/5\n",
      "1094/1094 [==============================] - 61s 53ms/step - loss: 0.1526 - accuracy: 0.9555\n",
      "Epoch 2/5\n",
      "1094/1094 [==============================] - 59s 54ms/step - loss: 0.0455 - accuracy: 0.9857\n",
      "Epoch 3/5\n",
      "1094/1094 [==============================] - 36s 33ms/step - loss: 0.0328 - accuracy: 0.9898\n",
      "Epoch 4/5\n",
      "1094/1094 [==============================] - 30s 28ms/step - loss: 0.0244 - accuracy: 0.9922\n",
      "Epoch 5/5\n",
      "1094/1094 [==============================] - 41s 37ms/step - loss: 0.0191 - accuracy: 0.9939\n"
     ]
    },
    {
     "data": {
      "text/plain": [
       "<keras.src.callbacks.History at 0x7f1212616dd0>"
      ]
     },
     "execution_count": 3,
     "metadata": {},
     "output_type": "execute_result"
    }
   ],
   "source": [
    "import tensorflow as tf\n",
    "from tensorflow import keras\n",
    "from tensorflow.keras import layers\n",
    "import numpy as np\n",
    "\n",
    "# Load the MNIST dataset (60,000 training images and 10,000 test images)\n",
    "mnist = keras.datasets.mnist\n",
    "(x_train, y_train), (x_test, y_test) = mnist.load_data()\n",
    "\n",
    "x_data = np.concatenate((x_train, x_test), axis=0)\n",
    "y_data = np.concatenate((y_train, y_test), axis=0)\n",
    "\n",
    "# Normalize pixel values to a range of 0 to 1\n",
    "x_data = x_data / 255.0\n",
    "\n",
    "# Simple CNN model\n",
    "model = keras.Sequential([\n",
    "    layers.Input(shape=(28, 28)),\n",
    "    layers.Reshape((28, 28, 1)),\n",
    "    layers.Conv2D(32, (3, 3), activation='relu', input_shape=(28, 28, 1)),\n",
    "    layers.MaxPooling2D((2, 2)),\n",
    "    layers.Conv2D(64, (3, 3), activation='relu'),\n",
    "    layers.MaxPooling2D((2, 2)),\n",
    "    layers.Flatten(),\n",
    "    layers.Dense(64, activation='relu'),\n",
    "    layers.Dense(10, activation='softmax')\n",
    "])\n",
    "\n",
    "model.compile(optimizer='adam',\n",
    "              loss='sparse_categorical_crossentropy',\n",
    "              metrics=['accuracy'])\n",
    "\n",
    "model.fit(x_data, y_data, epochs=5, batch_size=64)"
   ]
  },
  {
   "cell_type": "code",
   "execution_count": 4,
   "metadata": {},
   "outputs": [
    {
     "name": "stdout",
     "output_type": "stream",
     "text": [
      "375/375 [==============================] - 4s 9ms/step\n",
      "['0: 1276', '1: 1531', '2: 936', '3: 1320', '4: 1178', '5: 1201', '6: 1197', '7: 806', '8: 970', '9: 1585']\n"
     ]
    }
   ],
   "source": [
    "# Classify 12,000 unlabeled images\n",
    "predictions = model.predict(images_to_classify)\n",
    "\n",
    "class_counts = [0] * 10\n",
    "for prediction in predictions:\n",
    "    predicted_class = np.argmax(prediction)\n",
    "    class_counts[predicted_class] += 1\n",
    "\n",
    "output_list = [f\"{i}: {count}\" for i, count in enumerate(class_counts)]\n",
    "\n",
    "print(output_list)"
   ]
  }
 ],
 "metadata": {
  "kernelspec": {
   "display_name": "venv",
   "language": "python",
   "name": "python3"
  },
  "language_info": {
   "codemirror_mode": {
    "name": "ipython",
    "version": 3
   },
   "file_extension": ".py",
   "mimetype": "text/x-python",
   "name": "python",
   "nbconvert_exporter": "python",
   "pygments_lexer": "ipython3",
   "version": "3.10.12"
  }
 },
 "nbformat": 4,
 "nbformat_minor": 2
}
